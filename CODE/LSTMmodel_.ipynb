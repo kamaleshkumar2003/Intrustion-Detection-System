{
  "cells": [
    {
      "cell_type": "code",
      "execution_count": 1,
      "metadata": {
        "colab": {
          "base_uri": "https://localhost:8080/"
        },
        "id": "_x899FooH23R",
        "outputId": "68559ff5-c822-49f9-8513-43ae26742e35"
      },
      "outputs": [
        {
          "name": "stdout",
          "output_type": "stream",
          "text": [
            "Mounted at /content/drive\n"
          ]
        }
      ],
      "source": [
        "from google.colab import drive\n",
        "drive.mount('/content/drive')"
      ]
    },
    {
      "cell_type": "markdown",
      "metadata": {
        "id": "_AGBQ4MGIJ3u"
      },
      "source": [
        "\"Import libaries Function\""
      ]
    },
    {
      "cell_type": "code",
      "execution_count": 2,
      "metadata": {
        "id": "pm_FfuJWIIhZ"
      },
      "outputs": [],
      "source": [
        "import pandas as pd \n",
        "import numpy as np\n",
        "from sklearn.preprocessing import LabelEncoder\n",
        "from keras.utils import np_utils\n",
        "from sklearn.model_selection import train_test_split\n",
        "from sklearn.preprocessing import StandardScaler\n",
        "from sklearn.preprocessing import MinMaxScaler\n",
        "import keras\n",
        "from keras.models import Sequential\n",
        "from keras.layers import Dense\n",
        "import matplotlib.pyplot as plt"
      ]
    },
    {
      "cell_type": "code",
      "execution_count": 3,
      "metadata": {
        "id": "sz405cB6IRbf"
      },
      "outputs": [],
      "source": [
        "filepath = \"/content/drive/MyDrive/Novel_Sourcecode/Dataset-Unicauca-Version2-87Atts.csv\"\n",
        "df = pd.read_csv(filepath)"
      ]
    },
    {
      "cell_type": "code",
      "execution_count": 4,
      "metadata": {
        "colab": {
          "base_uri": "https://localhost:8080/",
          "height": 473
        },
        "id": "UFNw-k0wIUoG",
        "outputId": "a8d48f5a-e741-4b86-bdfc-0638f4492714"
      },
      "outputs": [
        {
          "data": {
            "text/html": [
              "\n",
              "  <div id=\"df-472670be-bdb1-43c5-bffa-647ea0534c68\">\n",
              "    <div class=\"colab-df-container\">\n",
              "      <div>\n",
              "<style scoped>\n",
              "    .dataframe tbody tr th:only-of-type {\n",
              "        vertical-align: middle;\n",
              "    }\n",
              "\n",
              "    .dataframe tbody tr th {\n",
              "        vertical-align: top;\n",
              "    }\n",
              "\n",
              "    .dataframe thead th {\n",
              "        text-align: right;\n",
              "    }\n",
              "</style>\n",
              "<table border=\"1\" class=\"dataframe\">\n",
              "  <thead>\n",
              "    <tr style=\"text-align: right;\">\n",
              "      <th></th>\n",
              "      <th>Flow.ID</th>\n",
              "      <th>Source.IP</th>\n",
              "      <th>Source.Port</th>\n",
              "      <th>Destination.IP</th>\n",
              "      <th>Destination.Port</th>\n",
              "      <th>Protocol</th>\n",
              "      <th>Timestamp</th>\n",
              "      <th>Flow.Duration</th>\n",
              "      <th>Total.Fwd.Packets</th>\n",
              "      <th>Total.Backward.Packets</th>\n",
              "      <th>...</th>\n",
              "      <th>Active.Std</th>\n",
              "      <th>Active.Max</th>\n",
              "      <th>Active.Min</th>\n",
              "      <th>Idle.Mean</th>\n",
              "      <th>Idle.Std</th>\n",
              "      <th>Idle.Max</th>\n",
              "      <th>Idle.Min</th>\n",
              "      <th>Label</th>\n",
              "      <th>L7Protocol</th>\n",
              "      <th>ProtocolName</th>\n",
              "    </tr>\n",
              "  </thead>\n",
              "  <tbody>\n",
              "    <tr>\n",
              "      <th>0</th>\n",
              "      <td>172.19.1.46-10.200.7.7-52422-3128-6</td>\n",
              "      <td>172.19.1.46</td>\n",
              "      <td>52422</td>\n",
              "      <td>10.200.7.7</td>\n",
              "      <td>3128</td>\n",
              "      <td>6</td>\n",
              "      <td>26/04/201711:11:17</td>\n",
              "      <td>45523</td>\n",
              "      <td>22</td>\n",
              "      <td>55</td>\n",
              "      <td>...</td>\n",
              "      <td>0.0</td>\n",
              "      <td>0.0</td>\n",
              "      <td>0.0</td>\n",
              "      <td>0.0</td>\n",
              "      <td>0.0</td>\n",
              "      <td>0.0</td>\n",
              "      <td>0.0</td>\n",
              "      <td>BENIGN</td>\n",
              "      <td>131</td>\n",
              "      <td>HTTP_PROXY</td>\n",
              "    </tr>\n",
              "    <tr>\n",
              "      <th>1</th>\n",
              "      <td>172.19.1.46-10.200.7.7-52422-3128-6</td>\n",
              "      <td>10.200.7.7</td>\n",
              "      <td>3128</td>\n",
              "      <td>172.19.1.46</td>\n",
              "      <td>52422</td>\n",
              "      <td>6</td>\n",
              "      <td>26/04/201711:11:17</td>\n",
              "      <td>1</td>\n",
              "      <td>2</td>\n",
              "      <td>0</td>\n",
              "      <td>...</td>\n",
              "      <td>0.0</td>\n",
              "      <td>0.0</td>\n",
              "      <td>0.0</td>\n",
              "      <td>0.0</td>\n",
              "      <td>0.0</td>\n",
              "      <td>0.0</td>\n",
              "      <td>0.0</td>\n",
              "      <td>BENIGN</td>\n",
              "      <td>131</td>\n",
              "      <td>HTTP_PROXY</td>\n",
              "    </tr>\n",
              "    <tr>\n",
              "      <th>2</th>\n",
              "      <td>10.200.7.217-50.31.185.39-38848-80-6</td>\n",
              "      <td>50.31.185.39</td>\n",
              "      <td>80</td>\n",
              "      <td>10.200.7.217</td>\n",
              "      <td>38848</td>\n",
              "      <td>6</td>\n",
              "      <td>26/04/201711:11:17</td>\n",
              "      <td>1</td>\n",
              "      <td>3</td>\n",
              "      <td>0</td>\n",
              "      <td>...</td>\n",
              "      <td>0.0</td>\n",
              "      <td>0.0</td>\n",
              "      <td>0.0</td>\n",
              "      <td>0.0</td>\n",
              "      <td>0.0</td>\n",
              "      <td>0.0</td>\n",
              "      <td>0.0</td>\n",
              "      <td>BENIGN</td>\n",
              "      <td>7</td>\n",
              "      <td>HTTP</td>\n",
              "    </tr>\n",
              "    <tr>\n",
              "      <th>3</th>\n",
              "      <td>10.200.7.217-50.31.185.39-38848-80-6</td>\n",
              "      <td>50.31.185.39</td>\n",
              "      <td>80</td>\n",
              "      <td>10.200.7.217</td>\n",
              "      <td>38848</td>\n",
              "      <td>6</td>\n",
              "      <td>26/04/201711:11:17</td>\n",
              "      <td>217</td>\n",
              "      <td>1</td>\n",
              "      <td>3</td>\n",
              "      <td>...</td>\n",
              "      <td>0.0</td>\n",
              "      <td>0.0</td>\n",
              "      <td>0.0</td>\n",
              "      <td>0.0</td>\n",
              "      <td>0.0</td>\n",
              "      <td>0.0</td>\n",
              "      <td>0.0</td>\n",
              "      <td>BENIGN</td>\n",
              "      <td>7</td>\n",
              "      <td>HTTP</td>\n",
              "    </tr>\n",
              "    <tr>\n",
              "      <th>4</th>\n",
              "      <td>192.168.72.43-10.200.7.7-55961-3128-6</td>\n",
              "      <td>192.168.72.43</td>\n",
              "      <td>55961</td>\n",
              "      <td>10.200.7.7</td>\n",
              "      <td>3128</td>\n",
              "      <td>6</td>\n",
              "      <td>26/04/201711:11:17</td>\n",
              "      <td>78068</td>\n",
              "      <td>5</td>\n",
              "      <td>0</td>\n",
              "      <td>...</td>\n",
              "      <td>0.0</td>\n",
              "      <td>0.0</td>\n",
              "      <td>0.0</td>\n",
              "      <td>0.0</td>\n",
              "      <td>0.0</td>\n",
              "      <td>0.0</td>\n",
              "      <td>0.0</td>\n",
              "      <td>BENIGN</td>\n",
              "      <td>131</td>\n",
              "      <td>HTTP_PROXY</td>\n",
              "    </tr>\n",
              "  </tbody>\n",
              "</table>\n",
              "<p>5 rows × 87 columns</p>\n",
              "</div>\n",
              "      <button class=\"colab-df-convert\" onclick=\"convertToInteractive('df-472670be-bdb1-43c5-bffa-647ea0534c68')\"\n",
              "              title=\"Convert this dataframe to an interactive table.\"\n",
              "              style=\"display:none;\">\n",
              "        \n",
              "  <svg xmlns=\"http://www.w3.org/2000/svg\" height=\"24px\"viewBox=\"0 0 24 24\"\n",
              "       width=\"24px\">\n",
              "    <path d=\"M0 0h24v24H0V0z\" fill=\"none\"/>\n",
              "    <path d=\"M18.56 5.44l.94 2.06.94-2.06 2.06-.94-2.06-.94-.94-2.06-.94 2.06-2.06.94zm-11 1L8.5 8.5l.94-2.06 2.06-.94-2.06-.94L8.5 2.5l-.94 2.06-2.06.94zm10 10l.94 2.06.94-2.06 2.06-.94-2.06-.94-.94-2.06-.94 2.06-2.06.94z\"/><path d=\"M17.41 7.96l-1.37-1.37c-.4-.4-.92-.59-1.43-.59-.52 0-1.04.2-1.43.59L10.3 9.45l-7.72 7.72c-.78.78-.78 2.05 0 2.83L4 21.41c.39.39.9.59 1.41.59.51 0 1.02-.2 1.41-.59l7.78-7.78 2.81-2.81c.8-.78.8-2.07 0-2.86zM5.41 20L4 18.59l7.72-7.72 1.47 1.35L5.41 20z\"/>\n",
              "  </svg>\n",
              "      </button>\n",
              "      \n",
              "  <style>\n",
              "    .colab-df-container {\n",
              "      display:flex;\n",
              "      flex-wrap:wrap;\n",
              "      gap: 12px;\n",
              "    }\n",
              "\n",
              "    .colab-df-convert {\n",
              "      background-color: #E8F0FE;\n",
              "      border: none;\n",
              "      border-radius: 50%;\n",
              "      cursor: pointer;\n",
              "      display: none;\n",
              "      fill: #1967D2;\n",
              "      height: 32px;\n",
              "      padding: 0 0 0 0;\n",
              "      width: 32px;\n",
              "    }\n",
              "\n",
              "    .colab-df-convert:hover {\n",
              "      background-color: #E2EBFA;\n",
              "      box-shadow: 0px 1px 2px rgba(60, 64, 67, 0.3), 0px 1px 3px 1px rgba(60, 64, 67, 0.15);\n",
              "      fill: #174EA6;\n",
              "    }\n",
              "\n",
              "    [theme=dark] .colab-df-convert {\n",
              "      background-color: #3B4455;\n",
              "      fill: #D2E3FC;\n",
              "    }\n",
              "\n",
              "    [theme=dark] .colab-df-convert:hover {\n",
              "      background-color: #434B5C;\n",
              "      box-shadow: 0px 1px 3px 1px rgba(0, 0, 0, 0.15);\n",
              "      filter: drop-shadow(0px 1px 2px rgba(0, 0, 0, 0.3));\n",
              "      fill: #FFFFFF;\n",
              "    }\n",
              "  </style>\n",
              "\n",
              "      <script>\n",
              "        const buttonEl =\n",
              "          document.querySelector('#df-472670be-bdb1-43c5-bffa-647ea0534c68 button.colab-df-convert');\n",
              "        buttonEl.style.display =\n",
              "          google.colab.kernel.accessAllowed ? 'block' : 'none';\n",
              "\n",
              "        async function convertToInteractive(key) {\n",
              "          const element = document.querySelector('#df-472670be-bdb1-43c5-bffa-647ea0534c68');\n",
              "          const dataTable =\n",
              "            await google.colab.kernel.invokeFunction('convertToInteractive',\n",
              "                                                     [key], {});\n",
              "          if (!dataTable) return;\n",
              "\n",
              "          const docLinkHtml = 'Like what you see? Visit the ' +\n",
              "            '<a target=\"_blank\" href=https://colab.research.google.com/notebooks/data_table.ipynb>data table notebook</a>'\n",
              "            + ' to learn more about interactive tables.';\n",
              "          element.innerHTML = '';\n",
              "          dataTable['output_type'] = 'display_data';\n",
              "          await google.colab.output.renderOutput(dataTable, element);\n",
              "          const docLink = document.createElement('div');\n",
              "          docLink.innerHTML = docLinkHtml;\n",
              "          element.appendChild(docLink);\n",
              "        }\n",
              "      </script>\n",
              "    </div>\n",
              "  </div>\n",
              "  "
            ],
            "text/plain": [
              "                                 Flow.ID      Source.IP  Source.Port  \\\n",
              "0    172.19.1.46-10.200.7.7-52422-3128-6    172.19.1.46        52422   \n",
              "1    172.19.1.46-10.200.7.7-52422-3128-6     10.200.7.7         3128   \n",
              "2   10.200.7.217-50.31.185.39-38848-80-6   50.31.185.39           80   \n",
              "3   10.200.7.217-50.31.185.39-38848-80-6   50.31.185.39           80   \n",
              "4  192.168.72.43-10.200.7.7-55961-3128-6  192.168.72.43        55961   \n",
              "\n",
              "  Destination.IP  Destination.Port  Protocol           Timestamp  \\\n",
              "0     10.200.7.7              3128         6  26/04/201711:11:17   \n",
              "1    172.19.1.46             52422         6  26/04/201711:11:17   \n",
              "2   10.200.7.217             38848         6  26/04/201711:11:17   \n",
              "3   10.200.7.217             38848         6  26/04/201711:11:17   \n",
              "4     10.200.7.7              3128         6  26/04/201711:11:17   \n",
              "\n",
              "   Flow.Duration  Total.Fwd.Packets  Total.Backward.Packets  ...  Active.Std  \\\n",
              "0          45523                 22                      55  ...         0.0   \n",
              "1              1                  2                       0  ...         0.0   \n",
              "2              1                  3                       0  ...         0.0   \n",
              "3            217                  1                       3  ...         0.0   \n",
              "4          78068                  5                       0  ...         0.0   \n",
              "\n",
              "   Active.Max  Active.Min  Idle.Mean  Idle.Std  Idle.Max  Idle.Min   Label  \\\n",
              "0         0.0         0.0        0.0       0.0       0.0       0.0  BENIGN   \n",
              "1         0.0         0.0        0.0       0.0       0.0       0.0  BENIGN   \n",
              "2         0.0         0.0        0.0       0.0       0.0       0.0  BENIGN   \n",
              "3         0.0         0.0        0.0       0.0       0.0       0.0  BENIGN   \n",
              "4         0.0         0.0        0.0       0.0       0.0       0.0  BENIGN   \n",
              "\n",
              "   L7Protocol  ProtocolName  \n",
              "0         131    HTTP_PROXY  \n",
              "1         131    HTTP_PROXY  \n",
              "2           7          HTTP  \n",
              "3           7          HTTP  \n",
              "4         131    HTTP_PROXY  \n",
              "\n",
              "[5 rows x 87 columns]"
            ]
          },
          "execution_count": 4,
          "metadata": {},
          "output_type": "execute_result"
        }
      ],
      "source": [
        "df.head(4)"
      ]
    },
    {
      "cell_type": "code",
      "execution_count": 5,
      "metadata": {
        "colab": {
          "base_uri": "https://localhost:8080/"
        },
        "id": "zCpVaXTbIkJu",
        "outputId": "d569e799-d030-481d-9386-af0270bff487"
      },
      "outputs": [
        {
          "data": {
            "text/plain": [
              "(1000, 87)"
            ]
          },
          "execution_count": 5,
          "metadata": {},
          "output_type": "execute_result"
        }
      ],
      "source": [
        "df=df.iloc[:1000]\n",
        "df.shape \n",
        "#df.columns"
      ]
    },
    {
      "cell_type": "code",
      "execution_count": 6,
      "metadata": {
        "id": "lzaJ57JyI4Hu"
      },
      "outputs": [],
      "source": [
        "feats_importance = ['Destination.IP', 'Destination.Port', 'Source.IP', 'Init_Win_bytes_forward',\n",
        " 'min_seg_size_forward', 'Fwd.Packet.Length.Max', 'Init_Win_bytes_backward', 'Flow.IAT.Max',\n",
        " 'Source.Port', 'Flow.Duration', 'Fwd.Packet.Length.Std', 'Bwd.IAT.Total',\n",
        " 'Avg.Fwd.Segment.Size', 'Fwd.Packets.s', 'Fwd.IAT.Total', 'Fwd.IAT.Max',\n",
        " 'Fwd.Packet.Length.Mean', 'Subflow.Fwd.Bytes', 'Flow.Bytes.s', 'Min.Packet.Length',\n",
        " 'Total.Length.of.Fwd.Packets', 'Bwd.IAT.Max', 'Packet.Length.Variance', 'Bwd.Packets.s',\n",
        " 'Flow.IAT.Mean', 'Fwd.Header.Length', 'act_data_pkt_fwd', 'Max.Packet.Length',\n",
        " 'Flow.Packets.s', 'Flow.IAT.Std', 'Packet.Length.Std', 'Idle.Max',\n",
        " 'Fwd.Header.Length.1', 'Bwd.Packet.Length.Mean', 'Bwd.IAT.Std', 'Fwd.Packet.Length.Min',\n",
        " 'Bwd.Packet.Length.Std', 'Avg.Bwd.Segment.Size', 'Average.Packet.Size', 'Total.Length.of.Bwd.Packets',\n",
        " 'Packet.Length.Mean', 'Fwd.IAT.Mean', 'Fwd.IAT.Std', 'Flow.IAT.Min',\n",
        " 'Bwd.IAT.Mean', 'Bwd.Packet.Length.Max', 'Subflow.Fwd.Packets', 'Total.Fwd.Packets',\n",
        " 'Total.Backward.Packets', 'Bwd.Header.Length', 'Subflow.Bwd.Bytes', 'Subflow.Bwd.Packets', \n",
        " 'Idle.Mean', 'Fwd.IAT.Min', 'Down.Up.Ratio', 'Idle.Min']"
      ]
    },
    {
      "cell_type": "code",
      "execution_count": 7,
      "metadata": {
        "id": "JXJ9GjsvI5hO"
      },
      "outputs": [],
      "source": [
        "from sklearn.preprocessing import LabelEncoder\n",
        "number = LabelEncoder()\n",
        "df['Label'] = number.fit_transform(df['Label'].astype(str))\n",
        "df['Flow.ID'] = number.fit_transform(df['Flow.ID'].astype(str))\n",
        "df['Source.IP'] = number.fit_transform(df['Source.IP'].astype(str))\n",
        "df['Destination.IP'] = number.fit_transform(df['Destination.IP'].astype(str))\n",
        "df['Timestamp'] = number.fit_transform(df['Timestamp'].astype(str))\n",
        "df['ProtocolName'] = number.fit_transform(df['ProtocolName'].astype(str))\t"
      ]
    },
    {
      "cell_type": "code",
      "execution_count": 8,
      "metadata": {
        "colab": {
          "base_uri": "https://localhost:8080/",
          "height": 205
        },
        "id": "mt21VGDhI-7X",
        "outputId": "839149ca-40b3-486e-b2b0-4664a0f7b140"
      },
      "outputs": [
        {
          "data": {
            "text/html": [
              "\n",
              "  <div id=\"df-979b688b-b3ce-49fa-9e59-0510021a7d31\">\n",
              "    <div class=\"colab-df-container\">\n",
              "      <div>\n",
              "<style scoped>\n",
              "    .dataframe tbody tr th:only-of-type {\n",
              "        vertical-align: middle;\n",
              "    }\n",
              "\n",
              "    .dataframe tbody tr th {\n",
              "        vertical-align: top;\n",
              "    }\n",
              "\n",
              "    .dataframe thead th {\n",
              "        text-align: right;\n",
              "    }\n",
              "</style>\n",
              "<table border=\"1\" class=\"dataframe\">\n",
              "  <thead>\n",
              "    <tr style=\"text-align: right;\">\n",
              "      <th></th>\n",
              "      <th>Flow.ID</th>\n",
              "      <th>Source.IP</th>\n",
              "      <th>Source.Port</th>\n",
              "      <th>Destination.IP</th>\n",
              "      <th>Destination.Port</th>\n",
              "      <th>Protocol</th>\n",
              "      <th>Timestamp</th>\n",
              "      <th>Flow.Duration</th>\n",
              "      <th>Total.Fwd.Packets</th>\n",
              "      <th>Total.Backward.Packets</th>\n",
              "      <th>...</th>\n",
              "      <th>Active.Std</th>\n",
              "      <th>Active.Max</th>\n",
              "      <th>Active.Min</th>\n",
              "      <th>Idle.Mean</th>\n",
              "      <th>Idle.Std</th>\n",
              "      <th>Idle.Max</th>\n",
              "      <th>Idle.Min</th>\n",
              "      <th>Label</th>\n",
              "      <th>L7Protocol</th>\n",
              "      <th>ProtocolName</th>\n",
              "    </tr>\n",
              "  </thead>\n",
              "  <tbody>\n",
              "    <tr>\n",
              "      <th>0</th>\n",
              "      <td>102</td>\n",
              "      <td>18</td>\n",
              "      <td>52422</td>\n",
              "      <td>8</td>\n",
              "      <td>3128</td>\n",
              "      <td>6</td>\n",
              "      <td>0</td>\n",
              "      <td>45523</td>\n",
              "      <td>22</td>\n",
              "      <td>55</td>\n",
              "      <td>...</td>\n",
              "      <td>0.0</td>\n",
              "      <td>0.0</td>\n",
              "      <td>0.0</td>\n",
              "      <td>0.0</td>\n",
              "      <td>0.0</td>\n",
              "      <td>0.0</td>\n",
              "      <td>0.0</td>\n",
              "      <td>0</td>\n",
              "      <td>131</td>\n",
              "      <td>7</td>\n",
              "    </tr>\n",
              "    <tr>\n",
              "      <th>1</th>\n",
              "      <td>102</td>\n",
              "      <td>11</td>\n",
              "      <td>3128</td>\n",
              "      <td>24</td>\n",
              "      <td>52422</td>\n",
              "      <td>6</td>\n",
              "      <td>0</td>\n",
              "      <td>1</td>\n",
              "      <td>2</td>\n",
              "      <td>0</td>\n",
              "      <td>...</td>\n",
              "      <td>0.0</td>\n",
              "      <td>0.0</td>\n",
              "      <td>0.0</td>\n",
              "      <td>0.0</td>\n",
              "      <td>0.0</td>\n",
              "      <td>0.0</td>\n",
              "      <td>0.0</td>\n",
              "      <td>0</td>\n",
              "      <td>131</td>\n",
              "      <td>7</td>\n",
              "    </tr>\n",
              "  </tbody>\n",
              "</table>\n",
              "<p>2 rows × 87 columns</p>\n",
              "</div>\n",
              "      <button class=\"colab-df-convert\" onclick=\"convertToInteractive('df-979b688b-b3ce-49fa-9e59-0510021a7d31')\"\n",
              "              title=\"Convert this dataframe to an interactive table.\"\n",
              "              style=\"display:none;\">\n",
              "        \n",
              "  <svg xmlns=\"http://www.w3.org/2000/svg\" height=\"24px\"viewBox=\"0 0 24 24\"\n",
              "       width=\"24px\">\n",
              "    <path d=\"M0 0h24v24H0V0z\" fill=\"none\"/>\n",
              "    <path d=\"M18.56 5.44l.94 2.06.94-2.06 2.06-.94-2.06-.94-.94-2.06-.94 2.06-2.06.94zm-11 1L8.5 8.5l.94-2.06 2.06-.94-2.06-.94L8.5 2.5l-.94 2.06-2.06.94zm10 10l.94 2.06.94-2.06 2.06-.94-2.06-.94-.94-2.06-.94 2.06-2.06.94z\"/><path d=\"M17.41 7.96l-1.37-1.37c-.4-.4-.92-.59-1.43-.59-.52 0-1.04.2-1.43.59L10.3 9.45l-7.72 7.72c-.78.78-.78 2.05 0 2.83L4 21.41c.39.39.9.59 1.41.59.51 0 1.02-.2 1.41-.59l7.78-7.78 2.81-2.81c.8-.78.8-2.07 0-2.86zM5.41 20L4 18.59l7.72-7.72 1.47 1.35L5.41 20z\"/>\n",
              "  </svg>\n",
              "      </button>\n",
              "      \n",
              "  <style>\n",
              "    .colab-df-container {\n",
              "      display:flex;\n",
              "      flex-wrap:wrap;\n",
              "      gap: 12px;\n",
              "    }\n",
              "\n",
              "    .colab-df-convert {\n",
              "      background-color: #E8F0FE;\n",
              "      border: none;\n",
              "      border-radius: 50%;\n",
              "      cursor: pointer;\n",
              "      display: none;\n",
              "      fill: #1967D2;\n",
              "      height: 32px;\n",
              "      padding: 0 0 0 0;\n",
              "      width: 32px;\n",
              "    }\n",
              "\n",
              "    .colab-df-convert:hover {\n",
              "      background-color: #E2EBFA;\n",
              "      box-shadow: 0px 1px 2px rgba(60, 64, 67, 0.3), 0px 1px 3px 1px rgba(60, 64, 67, 0.15);\n",
              "      fill: #174EA6;\n",
              "    }\n",
              "\n",
              "    [theme=dark] .colab-df-convert {\n",
              "      background-color: #3B4455;\n",
              "      fill: #D2E3FC;\n",
              "    }\n",
              "\n",
              "    [theme=dark] .colab-df-convert:hover {\n",
              "      background-color: #434B5C;\n",
              "      box-shadow: 0px 1px 3px 1px rgba(0, 0, 0, 0.15);\n",
              "      filter: drop-shadow(0px 1px 2px rgba(0, 0, 0, 0.3));\n",
              "      fill: #FFFFFF;\n",
              "    }\n",
              "  </style>\n",
              "\n",
              "      <script>\n",
              "        const buttonEl =\n",
              "          document.querySelector('#df-979b688b-b3ce-49fa-9e59-0510021a7d31 button.colab-df-convert');\n",
              "        buttonEl.style.display =\n",
              "          google.colab.kernel.accessAllowed ? 'block' : 'none';\n",
              "\n",
              "        async function convertToInteractive(key) {\n",
              "          const element = document.querySelector('#df-979b688b-b3ce-49fa-9e59-0510021a7d31');\n",
              "          const dataTable =\n",
              "            await google.colab.kernel.invokeFunction('convertToInteractive',\n",
              "                                                     [key], {});\n",
              "          if (!dataTable) return;\n",
              "\n",
              "          const docLinkHtml = 'Like what you see? Visit the ' +\n",
              "            '<a target=\"_blank\" href=https://colab.research.google.com/notebooks/data_table.ipynb>data table notebook</a>'\n",
              "            + ' to learn more about interactive tables.';\n",
              "          element.innerHTML = '';\n",
              "          dataTable['output_type'] = 'display_data';\n",
              "          await google.colab.output.renderOutput(dataTable, element);\n",
              "          const docLink = document.createElement('div');\n",
              "          docLink.innerHTML = docLinkHtml;\n",
              "          element.appendChild(docLink);\n",
              "        }\n",
              "      </script>\n",
              "    </div>\n",
              "  </div>\n",
              "  "
            ],
            "text/plain": [
              "   Flow.ID  Source.IP  Source.Port  Destination.IP  Destination.Port  \\\n",
              "0      102         18        52422               8              3128   \n",
              "1      102         11         3128              24             52422   \n",
              "\n",
              "   Protocol  Timestamp  Flow.Duration  Total.Fwd.Packets  \\\n",
              "0         6          0          45523                 22   \n",
              "1         6          0              1                  2   \n",
              "\n",
              "   Total.Backward.Packets  ...  Active.Std  Active.Max  Active.Min  Idle.Mean  \\\n",
              "0                      55  ...         0.0         0.0         0.0        0.0   \n",
              "1                       0  ...         0.0         0.0         0.0        0.0   \n",
              "\n",
              "   Idle.Std  Idle.Max  Idle.Min  Label  L7Protocol  ProtocolName  \n",
              "0       0.0       0.0       0.0      0         131             7  \n",
              "1       0.0       0.0       0.0      0         131             7  \n",
              "\n",
              "[2 rows x 87 columns]"
            ]
          },
          "execution_count": 8,
          "metadata": {},
          "output_type": "execute_result"
        }
      ],
      "source": [
        "df.head(2)"
      ]
    },
    {
      "cell_type": "code",
      "execution_count": 9,
      "metadata": {
        "id": "b0jTDK1iJHKW"
      },
      "outputs": [],
      "source": [
        "feats = [x for x in df.columns if x != 'ProtocolName']\n",
        "X = df[feats].astype(float)\n",
        "Y = df['ProtocolName']"
      ]
    },
    {
      "cell_type": "code",
      "execution_count": 10,
      "metadata": {
        "colab": {
          "base_uri": "https://localhost:8080/"
        },
        "id": "jbxYYXbgJLjO",
        "outputId": "372d7633-becf-4d19-9c1b-a6fc3fd2f872"
      },
      "outputs": [
        {
          "name": "stdout",
          "output_type": "stream",
          "text": [
            "(1000, 86)\n",
            "(1000,)\n"
          ]
        }
      ],
      "source": [
        "print(X.shape )\n",
        "print(Y.shape)"
      ]
    },
    {
      "cell_type": "code",
      "execution_count": 11,
      "metadata": {
        "id": "67WExn_IJZJv"
      },
      "outputs": [],
      "source": [
        "yd = np_utils.to_categorical(Y)"
      ]
    },
    {
      "cell_type": "code",
      "execution_count": 31,
      "metadata": {
        "id": "rcVce-MdJjHe"
      },
      "outputs": [],
      "source": [
        "X_train, X_test, y_train, y_test = train_test_split(X, yd, test_size = 0.3, random_state = 42)"
      ]
    },
    {
      "cell_type": "code",
      "execution_count": 32,
      "metadata": {
        "colab": {
          "base_uri": "https://localhost:8080/"
        },
        "id": "NgRFulS1JwXv",
        "outputId": "53e1fcd0-0aec-4a95-e9bd-c8709e65cc5f"
      },
      "outputs": [
        {
          "name": "stdout",
          "output_type": "stream",
          "text": [
            "(700, 86)\n",
            "(700, 13)\n",
            "(300, 86)\n",
            "(300, 13)\n"
          ]
        }
      ],
      "source": [
        "print(X_train.shape )\n",
        "print(y_train.shape)\n",
        "print(X_test.shape )\n",
        "print(y_test.shape)"
      ]
    },
    {
      "cell_type": "code",
      "execution_count": 34,
      "metadata": {
        "id": "5Vt7ImYzJ7cX"
      },
      "outputs": [],
      "source": [
        "scaler = MinMaxScaler()\n",
        "X_train = scaler.fit_transform(X_train)\n",
        "X_test = scaler.transform(X_test)"
      ]
    },
    {
      "cell_type": "code",
      "execution_count": 35,
      "metadata": {
        "id": "9htb4MNFJ-rW"
      },
      "outputs": [],
      "source": [
        "import keras.backend as K\n",
        "def get_f1(y_true, y_pred): #taken from old keras source code\n",
        "    true_positives = K.sum(K.round(K.clip(y_true * y_pred, 0, 1)))\n",
        "    possible_positives = K.sum(K.round(K.clip(y_true, 0, 1)))\n",
        "    predicted_positives = K.sum(K.round(K.clip(y_pred, 0, 1)))\n",
        "    precision = true_positives / (predicted_positives + K.epsilon())\n",
        "    recall = true_positives / (possible_positives + K.epsilon())\n",
        "    f1_val = 2*(precision*recall)/(precision+recall+K.epsilon())\n",
        "    return f1_val"
      ]
    },
    {
      "cell_type": "code",
      "execution_count": 36,
      "metadata": {
        "id": "YETqQq-pKAZf"
      },
      "outputs": [],
      "source": [
        "input_shape = X_train.shape[1:]\n",
        "num_classes = y_train.shape[1]"
      ]
    },
    {
      "cell_type": "code",
      "execution_count": 37,
      "metadata": {
        "id": "688CAvr91wof"
      },
      "outputs": [],
      "source": [
        "\n",
        "X_train=np.expand_dims(X_train, axis=2)\n",
        "y_train=np.expand_dims(y_train,axis=1)"
      ]
    },
    {
      "cell_type": "code",
      "execution_count": 38,
      "metadata": {
        "colab": {
          "base_uri": "https://localhost:8080/"
        },
        "id": "AwFccsV01tOg",
        "outputId": "1e135898-f82e-48cc-d502-019f0e8cd5c0"
      },
      "outputs": [
        {
          "name": "stdout",
          "output_type": "stream",
          "text": [
            "Training...\n",
            "Model: \"sequential_2\"\n",
            "_________________________________________________________________\n",
            " Layer (type)                Output Shape              Param #   \n",
            "=================================================================\n",
            " simple_rnn_2 (SimpleRNN)    (None, 64)                4224      \n",
            "                                                                 \n",
            " dense_2 (Dense)             (None, 1)                 65        \n",
            "                                                                 \n",
            "=================================================================\n",
            "Total params: 4,289\n",
            "Trainable params: 4,289\n",
            "Non-trainable params: 0\n",
            "_________________________________________________________________\n",
            "None\n",
            "\n",
            "\n"
          ]
        }
      ],
      "source": [
        "\n",
        "from tensorflow.keras.layers import SimpleRNN\n",
        "model = Sequential()\n",
        "model.add(SimpleRNN(64, activation='relu', input_shape=(86,1)))\n",
        "model.add(Dense(1, activation='relu'))\n",
        "\n",
        "\n",
        "print('Training...')\n",
        "model.compile(loss='mse', optimizer='adam',metrics=['accuracy'])\n",
        "print (model.summary())\n",
        "print ('\\n')"
      ]
    },
    {
      "cell_type": "code",
      "execution_count": 39,
      "metadata": {
        "colab": {
          "base_uri": "https://localhost:8080/"
        },
        "id": "1DIKzm6q10jX",
        "outputId": "2e0b341d-0f5d-462e-93e8-b2cd78228435"
      },
      "outputs": [
        {
          "name": "stdout",
          "output_type": "stream",
          "text": [
            "Epoch 1/2\n",
            "Epoch 2/2\n",
            "22/22 [==============================] - 0s 8ms/step - loss: 0.0769 - accuracy: 0.9231\n",
            "LSTM  Accuracy 92.30767488479614 %\n"
          ]
        }
      ],
      "source": [
        "\n",
        "history = model.fit(X_train,y_train, epochs=2, batch_size=5, verbose=10)\n",
        "RNN=model.evaluate(X_train,y_train,verbose=1)[1]*100\n",
        "print(\"LSTM  Accuracy\",RNN,'%')"
      ]
    },
    {
      "cell_type": "markdown",
      "metadata": {
        "id": "6MB_XAgP8zr_"
      },
      "source": [
        "epochs ===20\n"
      ]
    },
    {
      "cell_type": "code",
      "execution_count": 40,
      "metadata": {
        "colab": {
          "base_uri": "https://localhost:8080/"
        },
        "id": "-_ZOV4DFKVs9",
        "outputId": "dfd2e856-d35e-47ca-9bcb-413835229ffe"
      },
      "outputs": [
        {
          "name": "stdout",
          "output_type": "stream",
          "text": [
            "10/10 - 0s - loss: 0.0769 - accuracy: 0.9231 - 230ms/epoch - 23ms/step\n"
          ]
        }
      ],
      "source": [
        "loss, accuracy = model.evaluate(X_test, y_test, verbose=2)"
      ]
    },
    {
      "cell_type": "code",
      "execution_count": 41,
      "metadata": {
        "id": "ZH9HDj4DKa7N"
      },
      "outputs": [],
      "source": [
        "y_pred=model.predict(X_test)\n"
      ]
    },
    {
      "cell_type": "code",
      "execution_count": 42,
      "metadata": {
        "colab": {
          "base_uri": "https://localhost:8080/"
        },
        "id": "rwqqDNpEK9bu",
        "outputId": "bd435fe6-b266-4e89-c8aa-8e91f31ef97d"
      },
      "outputs": [
        {
          "data": {
            "text/plain": [
              "(13,)"
            ]
          },
          "execution_count": 42,
          "metadata": {},
          "output_type": "execute_result"
        }
      ],
      "source": [
        "y_test[0].shape"
      ]
    },
    {
      "cell_type": "code",
      "execution_count": 43,
      "metadata": {
        "colab": {
          "base_uri": "https://localhost:8080/"
        },
        "id": "gBdZS_vCKZrW",
        "outputId": "5dc017fd-7947-416e-d4ad-aba6bd422d5c"
      },
      "outputs": [
        {
          "name": "stdout",
          "output_type": "stream",
          "text": [
            "Accuracy:\n",
            "0.9230769872665405\n"
          ]
        }
      ],
      "source": [
        "print(\"Accuracy:\")\n",
        "print(accuracy)"
      ]
    },
    {
      "cell_type": "code",
      "execution_count": 44,
      "metadata": {
        "id": "s5VE1-YMKzgW"
      },
      "outputs": [],
      "source": [
        "from sklearn.metrics import accuracy_score\n",
        "from sklearn import metrics\n",
        "from sklearn.metrics import confusion_matrix\n"
      ]
    },
    {
      "cell_type": "code",
      "execution_count": 46,
      "metadata": {
        "colab": {
          "base_uri": "https://localhost:8080/"
        },
        "id": "qgZeP66gKutn",
        "outputId": "cb812c2c-d8b6-487d-d933-bcedc34f812b"
      },
      "outputs": [
        {
          "name": "stdout",
          "output_type": "stream",
          "text": [
            "\n",
            "LSTM  Accuracy is: 92.30769872665405 %\n",
            "\n"
          ]
        }
      ],
      "source": [
        "\n",
        "print()\n",
        "print(\"LSTM  Accuracy is:\",accuracy*100,'%')\n",
        "print()\n",
        "\n"
      ]
    },
    {
      "cell_type": "code",
      "execution_count": 49,
      "metadata": {
        "colab": {
          "base_uri": "https://localhost:8080/",
          "height": 295
        },
        "id": "qaHRkmqnLm4O",
        "outputId": "3bbb2ac4-1641-43ff-fcc4-e36e8ef00820"
      },
      "outputs": [
        {
          "data": {
            "image/png": "[encoded data removed]",
            "text/plain": [
              "<Figure size 432x288 with 1 Axes>"
            ]
          },
          "metadata": {
            "needs_background": "light"
          },
          "output_type": "display_data"
        }
      ],
      "source": [
        "plt.plot(history.history['accuracy'])\n",
        "plt.title('Model accuracy')\n",
        "plt.ylabel('Accuracy')\n",
        "plt.xlabel('Epochs')\n",
        "plt.legend(['Training'], loc='upper left')\n",
        "plt.savefig(\"Accuracy_img.png\")"
      ]
    },
    {
      "cell_type": "code",
      "execution_count": 50,
      "metadata": {
        "colab": {
          "base_uri": "https://localhost:8080/",
          "height": 295
        },
        "id": "MEPxi7dxLohv",
        "outputId": "1199ca38-2559-4cdf-9711-998c83efe3dc"
      },
      "outputs": [
        {
          "data": {
            "image/png": "[encoded data removed]",
            "text/plain": [
              "<Figure size 432x288 with 1 Axes>"
            ]
          },
          "metadata": {
            "needs_background": "light"
          },
          "output_type": "display_data"
        }
      ],
      "source": [
        "plt.plot(history.history['loss']) \n",
        "plt.title('Model loss') \n",
        "plt.ylabel('Loss') \n",
        "plt.xlabel('Epochs') \n",
        "plt.legend(['Training'], loc='upper left') \n",
        "plt.savefig(\"Loss_img.png\")"
      ]
    },
    {
      "cell_type": "code",
      "execution_count": 51,
      "metadata": {
        "id": "jKOksdGh6dfH"
      },
      "outputs": [],
      "source": [
        "y_predd=y_test[:,1]"
      ]
    },
    {
      "cell_type": "code",
      "execution_count": 57,
      "metadata": {
        "colab": {
          "base_uri": "https://localhost:8080/"
        },
        "id": "bPSx5U1U71KV",
        "outputId": "43dd3963-61bf-4970-8817-9a1d52fa3daf"
      },
      "outputs": [
        {
          "data": {
            "text/plain": [
              "array([0., 0., 0., 0., 0., 0., 0., 0., 0., 0., 0., 0., 0., 0., 0., 1., 0.,\n",
              "       0., 0., 0., 0., 0., 0., 0., 0., 0., 1., 0., 0., 0., 0., 0., 0., 0.,\n",
              "       0., 0., 0., 0., 0., 0., 0., 0., 0., 0., 0., 0., 0., 0., 0., 0., 0.,\n",
              "       0., 0., 0., 0., 0., 0., 0., 0., 0., 0., 0., 0., 0., 0., 0., 0., 0.,\n",
              "       0., 0., 0., 0., 0., 0., 0., 0., 0., 0., 0., 0., 0., 0., 0., 0., 0.,\n",
              "       0., 0., 0., 0., 0., 0., 0., 0., 0., 0., 0., 0., 0., 0., 0., 0., 0.,\n",
              "       0., 0., 0., 0., 0., 0., 0., 0., 0., 0., 0., 0., 0., 0., 0., 0., 0.,\n",
              "       0., 0., 0., 0., 0., 0., 0., 0., 0., 0., 0., 0., 0., 0., 0., 0., 0.,\n",
              "       0., 0., 0., 0., 0., 0., 0., 0., 0., 0., 0., 0., 0., 0., 0., 0., 0.,\n",
              "       0., 0., 0., 0., 0., 0., 0., 0., 0., 0., 0., 0., 0., 0., 0., 0., 0.,\n",
              "       0., 0., 0., 0., 0., 0., 0., 0., 0., 0., 0., 0., 0., 0., 0., 0., 0.,\n",
              "       0., 0., 0., 0., 0., 0., 0., 0., 0., 1., 0., 0., 0., 0., 0., 0., 0.,\n",
              "       0., 0., 0., 0., 0., 0., 0., 0., 0., 0., 0., 0., 0., 0., 0., 0., 0.,\n",
              "       0., 0., 0., 0., 0., 0., 0., 0., 0., 0., 0., 0., 0., 0., 0., 0., 0.,\n",
              "       0., 0., 0., 0., 0., 0., 0., 0., 0., 0., 0., 0., 0., 1., 0., 0., 0.,\n",
              "       0., 0., 0., 0., 0., 0., 0., 0., 0., 0., 0., 0., 0., 0., 0., 0., 0.,\n",
              "       0., 0., 0., 0., 0., 0., 0., 0., 0., 0., 0., 0., 0., 0., 0., 0., 0.,\n",
              "       0., 0., 0., 0., 0., 0., 0., 0., 0., 0., 0.], dtype=float32)"
            ]
          },
          "execution_count": 57,
          "metadata": {},
          "output_type": "execute_result"
        }
      ],
      "source": [
        "y_predd"
      ]
    },
    {
      "cell_type": "code",
      "execution_count": 56,
      "metadata": {
        "colab": {
          "base_uri": "https://localhost:8080/"
        },
        "id": "V59ERZv_6iI6",
        "outputId": "b2829657-09e1-4f40-f1d7-bc34f226a31b"
      },
      "outputs": [
        {
          "name": "stdout",
          "output_type": "stream",
          "text": [
            "Enter the Intrusion detection  Attack 4\n",
            "non Attack \n"
          ]
        }
      ],
      "source": [
        "inp=int(input('Enter the Intrusion detection  Attack '))\n",
        "if (y_predd[inp] ==1 ):\n",
        "    print(\"Attack  \")\n",
        "else:\n",
        "    print(\"non Attack \")"
      ]
    }
  ],
  "metadata": {
    "accelerator": "GPU",
    "colab": {
      "collapsed_sections": [],
      "provenance": []
    },
    "kernelspec": {
      "display_name": "Python 3",
      "name": "python3"
    },
    "language_info": {
      "name": "python"
    }
  },
  "nbformat": 4,
  "nbformat_minor": 0
}
